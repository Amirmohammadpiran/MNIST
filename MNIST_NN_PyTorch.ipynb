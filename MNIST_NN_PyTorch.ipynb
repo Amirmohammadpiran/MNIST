{
 "cells": [
  {
   "cell_type": "markdown",
   "id": "5b0422db",
   "metadata": {},
   "source": [
    "**Hi! In this code I am implementing MNIST(handwritten digit recognition), using a basic neural network in PyTorch:**\n",
    "\n",
    "\n"
   ]
  },
  {
   "cell_type": "markdown",
   "id": "cb117518",
   "metadata": {},
   "source": [
    "**1-** Importing necessary libraries:"
   ]
  },
  {
   "cell_type": "code",
   "execution_count": 32,
   "id": "9d9eaee9",
   "metadata": {},
   "outputs": [],
   "source": [
    "import torch\n",
    "import matplotlib.pyplot as plt\n",
    "import numpy as np\n",
    "import pandas as pd\n",
    "import time\n",
    "from torch import nn\n",
    "from tensorflow.keras.datasets import mnist\n",
    "import mplcyberpunk         # A library for modernizing matplotlib\n",
    "                            # install using this command:\n",
    "                            # pip install mplcyberpunk "
   ]
  },
  {
   "cell_type": "markdown",
   "id": "3ca7b6da",
   "metadata": {},
   "source": [
    "**2-** Loading the MNIST dataset, provided by **Keras**, **TensorFlow**:"
   ]
  },
  {
   "cell_type": "code",
   "execution_count": 18,
   "id": "e3175a6b",
   "metadata": {},
   "outputs": [
    {
     "name": "stdout",
     "output_type": "stream",
     "text": [
      "x_train shape:  (60000, 28, 28)   y_train shape:  (60000,)\n",
      "x_test shape:  (10000, 28, 28)   y_test shape:  (10000,)\n"
     ]
    }
   ],
   "source": [
    "(x_train, y_train), (x_test, y_test) = mnist.load_data()\n",
    "\n",
    "print('x_train shape: ',x_train.shape,'  y_train shape: ',y_train.shape)\n",
    "print('x_test shape: ',x_test.shape,'  y_test shape: ',y_test.shape)"
   ]
  },
  {
   "cell_type": "markdown",
   "id": "38461195",
   "metadata": {},
   "source": [
    "**3-** Visualizing the dataset:"
   ]
  },
  {
   "cell_type": "code",
   "execution_count": 19,
   "id": "3a2e7cee",
   "metadata": {},
   "outputs": [
    {
     "data": {
      "image/png": "[encoded data removed]",
      "text/plain": [
       "<Figure size 432x288 with 3 Axes>"
      ]
     },
     "metadata": {
      "needs_background": "dark"
     },
     "output_type": "display_data"
    }
   ],
   "source": [
    "plt.style.use('cyberpunk')\n",
    "for i in range(3):\n",
    "    plt.subplot(1,3,i+1)\n",
    "    plt.imshow(x_train[i],cmap='gray')\n",
    "    plt.title(\"Label : {}\".format(y_train[i]),fontsize=16)\n",
    "plt.show()"
   ]
  },
  {
   "cell_type": "markdown",
   "id": "4b32bb7e",
   "metadata": {},
   "source": [
    "**4-** Normalizing *x_train* and *x_test* from **0-255** values to **0-1**:"
   ]
  },
  {
   "cell_type": "code",
   "execution_count": 20,
   "id": "451118e9",
   "metadata": {},
   "outputs": [
    {
     "name": "stdout",
     "output_type": "stream",
     "text": [
      "random row vector of x_train and x_test in raw format:\n",
      "[  0   0   0   0   0   0   0   0   0   0   0   0   0   0   0   0   0  47\n",
      " 231 196   0   0   0   0   0   0   0   0] \n",
      "and\n",
      " [  0   0   0   0   0   0   0 195 252 252 252 223 220 138 111  15 209 252\n",
      " 134   0   0   0   0   0   0   0   0   0]\n",
      "\n",
      "\n",
      "random row vector of x_train and x_test after normalization:\n",
      "[0.         0.         0.         0.         0.         0.\n",
      " 0.         0.         0.         0.         0.         0.\n",
      " 0.         0.         0.         0.         0.         0.18431373\n",
      " 0.90588235 0.76862745 0.         0.         0.         0.\n",
      " 0.         0.         0.         0.        ] \n",
      "and\n",
      " [0.         0.         0.         0.         0.         0.\n",
      " 0.         0.76470588 0.98823529 0.98823529 0.98823529 0.8745098\n",
      " 0.8627451  0.54117647 0.43529412 0.05882353 0.81960784 0.98823529\n",
      " 0.5254902  0.         0.         0.         0.         0.\n",
      " 0.         0.         0.         0.        ]\n"
     ]
    }
   ],
   "source": [
    "print('random row vector of x_train and x_test in raw format:')\n",
    "first_index, second_index = np.random.choice(len(x_test)), np.random.randint(10,20)\n",
    "print(x_test[first_index,second_index],'\\nand\\n',x_train[first_index,second_index])\n",
    "print('\\n\\nrandom row vector of x_train and x_test after normalization:')\n",
    "x_test, x_train = x_test/255, x_train/255\n",
    "print(x_test[first_index,second_index],'\\nand\\n',x_train[first_index,second_index])"
   ]
  },
  {
   "cell_type": "markdown",
   "id": "9c57c4c1",
   "metadata": {},
   "source": [
    "**5-** Reshaping x_test and x_train from **(-1, 28, 28)**  to  **(-1, 784)**:"
   ]
  },
  {
   "cell_type": "code",
   "execution_count": 21,
   "id": "bb382315",
   "metadata": {},
   "outputs": [
    {
     "name": "stdout",
     "output_type": "stream",
     "text": [
      "Before reshaping : (60000, 28, 28) (10000, 28, 28)\n",
      "After reshaping : (60000, 784) (10000, 784)\n"
     ]
    }
   ],
   "source": [
    "print('Before reshaping :',x_train.shape,x_test.shape)\n",
    "x_train = x_train.reshape(x_train.shape[0],-1)\n",
    "x_test = x_test.reshape(x_test.shape[0],-1)\n",
    "print('After reshaping :',x_train.shape,x_test.shape)"
   ]
  },
  {
   "cell_type": "markdown",
   "id": "5d23ea1a",
   "metadata": {},
   "source": [
    "**6-** Building the neural network with **4 layers**:"
   ]
  },
  {
   "cell_type": "code",
   "execution_count": 22,
   "id": "62791a31",
   "metadata": {},
   "outputs": [],
   "source": [
    "class MNIST_Classifier(nn.Module):\n",
    "    def __init__(self):\n",
    "        super().__init__()\n",
    "        self.neuralNetwork = nn.Sequential(\n",
    "            nn.Linear(784,128),\n",
    "            nn.ReLU(),\n",
    "            nn.Linear(128,256),\n",
    "            nn.ReLU(),\n",
    "            nn.Linear(256,256),\n",
    "            nn.ReLU(),\n",
    "            nn.Dropout(p=0.25),\n",
    "            nn.Linear(256,10),\n",
    "            nn.Softmax()\n",
    "        )\n",
    "    \n",
    "    def forward(self, x: torch.Tensor) -> torch.Tensor:\n",
    "        return self.neuralNetwork(x)"
   ]
  },
  {
   "cell_type": "markdown",
   "id": "79a0f490",
   "metadata": {},
   "source": [
    "**7-** Investigating the **Non-Trained** model on test data:"
   ]
  },
  {
   "cell_type": "code",
   "execution_count": 23,
   "id": "1aa5a239",
   "metadata": {},
   "outputs": [
    {
     "name": "stderr",
     "output_type": "stream",
     "text": [
      "/home/amir/.local/lib/python3.10/site-packages/torch/nn/modules/container.py:204: UserWarning: Implicit dimension choice for softmax has been deprecated. Change the call to include dim=X as an argument.\n",
      "  input = module(input)\n"
     ]
    },
    {
     "data": {
      "image/png": "[encoded data removed]",
      "text/plain": [
       "<Figure size 432x288 with 3 Axes>"
      ]
     },
     "metadata": {
      "needs_background": "dark"
     },
     "output_type": "display_data"
    }
   ],
   "source": [
    "model = MNIST_Classifier()\n",
    "with torch.inference_mode():\n",
    "    y_pred = model(torch.Tensor(x_test))\n",
    "for i in range(3):\n",
    "    plt.subplot(1,3,i+1)\n",
    "    plt.imshow(x_test[i].reshape(28,28),cmap='gray')\n",
    "    plt.title(\"Predicted : {}\".format(y_pred[i].argmax()),fontsize=16)\n",
    "plt.show()"
   ]
  },
  {
   "cell_type": "markdown",
   "id": "13306024",
   "metadata": {},
   "source": [
    "**8-** Importing **Optimizer**  and  **Loss Function**:\n"
   ]
  },
  {
   "cell_type": "code",
   "execution_count": 24,
   "id": "b4c2e8e1",
   "metadata": {},
   "outputs": [],
   "source": [
    "from torch.nn import CrossEntropyLoss\n",
    "from torch.optim import Adam\n",
    "criterion = CrossEntropyLoss()\n",
    "optimizer = Adam(params=model.parameters(), lr=0.01)"
   ]
  },
  {
   "cell_type": "markdown",
   "id": "979d4ba3",
   "metadata": {},
   "source": [
    "**9-** Creating **Tensors with prefered datatype**, making labels **one-hot** and enabling **gradient tracking**:"
   ]
  },
  {
   "cell_type": "code",
   "execution_count": 25,
   "id": "e27c9fa8",
   "metadata": {},
   "outputs": [
    {
     "name": "stdout",
     "output_type": "stream",
     "text": [
      "Does x_train track gradients:  False\n",
      "\n",
      "Does x_train track gradients:  True\n"
     ]
    }
   ],
   "source": [
    "print('Does x_train track gradients: ',torch.Tensor(x_train).requires_grad)\n",
    "x_train = torch.from_numpy(x_train).type(torch.float).requires_grad_()\n",
    "x_test = torch.from_numpy(x_test).type(torch.float).requires_grad_()\n",
    "print('\\nDoes x_train track gradients: ',torch.Tensor(x_train).requires_grad)\n",
    "\n",
    "y_test = torch.nn.functional.one_hot(torch.Tensor(y_test).type(torch.LongTensor), num_classes=10)\n",
    "y_train = torch.nn.functional.one_hot(torch.Tensor(y_train).type(torch.LongTensor), num_classes=10)\n",
    "y_train = y_train.type(torch.float).requires_grad_()\n",
    "y_test = y_test.type(torch.float).requires_grad_()"
   ]
  },
  {
   "cell_type": "markdown",
   "id": "0f0999c6",
   "metadata": {},
   "source": [
    "**10-** Creating a **Cross Validation set** out of the training set (10% of it):"
   ]
  },
  {
   "cell_type": "code",
   "execution_count": 26,
   "id": "7d7954b6",
   "metadata": {},
   "outputs": [
    {
     "name": "stdout",
     "output_type": "stream",
     "text": [
      "shape of cross validation set: torch.Size([6000, 784]) torch.Size([6000, 10])\n",
      "shape of new training set: torch.Size([54000, 784]) torch.Size([54000, 10])\n"
     ]
    }
   ],
   "source": [
    "x_CV = x_train[54000:]\n",
    "y_CV = y_train[54000:]\n",
    "print(\"shape of cross validation set:\",x_CV.shape, y_CV.shape)\n",
    "x_train = x_train[:54000]\n",
    "y_train = y_train[:54000]\n",
    "print(\"shape of new training set:\",x_train.shape, y_train.shape)"
   ]
  },
  {
   "cell_type": "markdown",
   "id": "5792c932",
   "metadata": {},
   "source": [
    "**11-** Building a training loop and keeping the record of **loss** and **accuracy** for train and CV:"
   ]
  },
  {
   "cell_type": "code",
   "execution_count": 27,
   "id": "ccf3d8aa",
   "metadata": {},
   "outputs": [
    {
     "name": "stdout",
     "output_type": "stream",
     "text": [
      "epoch #0 | loss: 2.303 | train accuracy: % 7.5167 | CV accuracy: % 19.7000 | spent time: 2.90 sec\n",
      "epoch #10 | loss: 1.856 | train accuracy: % 60.6074 | CV accuracy: % 63.6167 | spent time: 28.20 sec\n",
      "epoch #20 | loss: 1.670 | train accuracy: % 79.2019 | CV accuracy: % 82.2833 | spent time: 28.54 sec\n",
      "epoch #30 | loss: 1.629 | train accuracy: % 83.1722 | CV accuracy: % 84.7000 | spent time: 25.54 sec\n",
      "epoch #40 | loss: 1.612 | train accuracy: % 84.9111 | CV accuracy: % 86.0500 | spent time: 26.62 sec\n",
      "epoch #50 | loss: 1.601 | train accuracy: % 85.9667 | CV accuracy: % 86.5833 | spent time: 23.51 sec\n",
      "epoch #60 | loss: 1.542 | train accuracy: % 92.0481 | CV accuracy: % 94.2333 | spent time: 24.15 sec\n",
      "epoch #70 | loss: 1.512 | train accuracy: % 94.9648 | CV accuracy: % 95.4500 | spent time: 24.84 sec\n",
      "epoch #80 | loss: 1.499 | train accuracy: % 96.2648 | CV accuracy: % 96.4833 | spent time: 23.85 sec\n",
      "epoch #90 | loss: 1.492 | train accuracy: % 97.0000 | CV accuracy: % 96.9500 | spent time: 24.28 sec\n",
      "epoch #100 | loss: 1.487 | train accuracy: % 97.5111 | CV accuracy: % 97.1000 | spent time: 26.33 sec\n",
      "epoch #110 | loss: 1.483 | train accuracy: % 97.8630 | CV accuracy: % 97.3500 | spent time: 27.54 sec\n",
      "epoch #120 | loss: 1.480 | train accuracy: % 98.1444 | CV accuracy: % 97.2667 | spent time: 28.08 sec\n",
      "epoch #130 | loss: 1.478 | train accuracy: % 98.3556 | CV accuracy: % 97.2833 | spent time: 26.60 sec\n",
      "epoch #140 | loss: 1.477 | train accuracy: % 98.4907 | CV accuracy: % 97.3000 | spent time: 25.97 sec\n",
      "epoch #150 | loss: 1.476 | train accuracy: % 98.6056 | CV accuracy: % 97.4167 | spent time: 26.76 sec\n"
     ]
    }
   ],
   "source": [
    "tic, toc = time.time(), time.time()\n",
    "epochs, train_accuracy_list, train_loss_list = [], [], []\n",
    "CV_loss_list, CV_accuracy_list = [], []\n",
    "\n",
    "for epoch in range(151):\n",
    "    \n",
    "    model.train()\n",
    "    y_pred = model(x_train).type(torch.float)\n",
    "    loss = criterion(y_pred,y_train)\n",
    "    optimizer.zero_grad()\n",
    "    loss.backward()\n",
    "    optimizer.step()\n",
    "    \n",
    "    if epoch % 10 == 0:  \n",
    "        \n",
    "        CV_y_pred = model(x_CV).type(torch.float)  \n",
    "        CV_loss = criterion(CV_y_pred,y_CV)\n",
    "        CV_loss_list.append(CV_loss.detach().numpy())  #loss for CV\n",
    "        \n",
    "        CV_correct = torch.eq(CV_y_pred.argmax(dim=-1),y_CV.argmax(dim=-1)).sum().item()\n",
    "        CV_acc = (CV_correct / len(y_CV)) * 100\n",
    "        CV_accuracy_list.append(CV_acc)                #accuracy for CV\n",
    "\n",
    "        train_correct = torch.eq(y_pred.argmax(dim=-1),y_train.argmax(dim=-1)).sum().item()\n",
    "        train_acc = (train_correct / len(y_train)) * 100\n",
    "        train_accuracy_list.append(train_acc)          #accuracy for train\n",
    "        \n",
    "        train_loss_list.append(loss.detach().numpy())  #loss for train\n",
    "                  \n",
    "        epochs.append(epoch)\n",
    "        \n",
    "        toc = time.time()\n",
    "\n",
    "        print(f'epoch #{epoch} | loss: {loss:.3f} | train accuracy: % {train_acc:.4f}',\n",
    "              f'| CV accuracy: % {CV_acc:.4f} | spent time: {toc-tic:.2f} sec')\n",
    "        \n",
    "        tic = time.time()"
   ]
  },
  {
   "cell_type": "markdown",
   "id": "0f730c29",
   "metadata": {},
   "source": [
    "**12-** Taking out **the highest probablities** from predicted labels:"
   ]
  },
  {
   "cell_type": "code",
   "execution_count": 28,
   "id": "34ba690f",
   "metadata": {},
   "outputs": [
    {
     "name": "stdout",
     "output_type": "stream",
     "text": [
      "the first prediction of x_test in raw format: \n",
      " tensor([2.8155e-16, 5.0866e-27, 7.9300e-19, 4.7197e-20, 1.2839e-34, 5.3249e-44,\n",
      "        3.8959e-40, 1.0000e+00, 1.3172e-43, 5.9209e-26],\n",
      "       grad_fn=<SelectBackward0>)\n",
      "the first prediction of x_test after argmax: \n",
      " tensor(7)\n"
     ]
    }
   ],
   "source": [
    "y_pred = model(x_test).type(torch.float)\n",
    "print('the first prediction of x_test in raw format: \\n', y_pred[0])\n",
    "y_pred = y_pred.argmax(dim=-1)\n",
    "print('the first prediction of x_test after argmax: \\n', y_pred[0])"
   ]
  },
  {
   "cell_type": "markdown",
   "id": "298a4ce6",
   "metadata": {},
   "source": [
    "**13-** Checking a random example from **x_test**:"
   ]
  },
  {
   "cell_type": "code",
   "execution_count": 29,
   "id": "10041603",
   "metadata": {},
   "outputs": [
    {
     "data": {
      "image/png": "[encoded data removed]",
      "text/plain": [
       "<Figure size 432x288 with 1 Axes>"
      ]
     },
     "metadata": {
      "needs_background": "dark"
     },
     "output_type": "display_data"
    }
   ],
   "source": [
    "index = np.random.choice(len(x_test))\n",
    "plt.imshow(x_test[index].detach().numpy().reshape(28,28),cmap='gray')\n",
    "plt.title(f'True label: {y_test[index].argmax()},Predicted: {y_pred[index]:.0f}',fontsize=16)\n",
    "plt.show()"
   ]
  },
  {
   "cell_type": "markdown",
   "id": "d6f818c1",
   "metadata": {},
   "source": [
    "**14-**  Checking  **the accuracy** for the test set:"
   ]
  },
  {
   "cell_type": "code",
   "execution_count": 30,
   "id": "915fbece",
   "metadata": {},
   "outputs": [
    {
     "name": "stdout",
     "output_type": "stream",
     "text": [
      "accuracy for the test set : % 96.78\n"
     ]
    }
   ],
   "source": [
    "y_pred = y_pred.type(torch.float)\n",
    "correct = torch.eq(y_pred, y_test.argmax(dim=-1).type(torch.float)).sum().item()\n",
    "acc = (correct / len(y_test)) * 100\n",
    "print(f'accuracy for the test set : % {acc}')"
   ]
  },
  {
   "cell_type": "markdown",
   "id": "1675a117",
   "metadata": {},
   "source": [
    "**15-** Plotting the curves:"
   ]
  },
  {
   "cell_type": "code",
   "execution_count": 31,
   "id": "83ba1a14",
   "metadata": {
    "scrolled": true
   },
   "outputs": [
    {
     "data": {
      "image/png": "[encoded data removed]",
      "text/plain": [
       "<Figure size 432x288 with 1 Axes>"
      ]
     },
     "metadata": {
      "needs_background": "dark"
     },
     "output_type": "display_data"
    },
    {
     "data": {
      "image/png": "[encoded data removed]",
      "text/plain": [
       "<Figure size 432x288 with 1 Axes>"
      ]
     },
     "metadata": {
      "needs_background": "dark"
     },
     "output_type": "display_data"
    }
   ],
   "source": [
    "plt.plot(epochs,train_loss_list)\n",
    "plt.plot(epochs,CV_loss_list)\n",
    "mplcyberpunk.make_lines_glow()\n",
    "mplcyberpunk.add_underglow()\n",
    "plt.xlabel('Epochs')\n",
    "plt.ylabel('Loss')\n",
    "plt.legend(['CV','Train'])\n",
    "plt.show()\n",
    "plt.plot(epochs,train_accuracy_list)\n",
    "plt.plot(epochs,CV_accuracy_list)\n",
    "mplcyberpunk.make_lines_glow()\n",
    "mplcyberpunk.add_underglow()\n",
    "plt.xlabel('Epochs')\n",
    "plt.ylabel('Accuracy')\n",
    "plt.legend(['CV','Train'])\n",
    "plt.show()"
   ]
  }
 ],
 "metadata": {
  "kernelspec": {
   "display_name": "Python 3 (ipykernel)",
   "language": "python",
   "name": "python3"
  },
  "language_info": {
   "codemirror_mode": {
    "name": "ipython",
    "version": 3
   },
   "file_extension": ".py",
   "mimetype": "text/x-python",
   "name": "python",
   "nbconvert_exporter": "python",
   "pygments_lexer": "ipython3",
   "version": "3.10.6"
  }
 },
 "nbformat": 4,
 "nbformat_minor": 5
}
