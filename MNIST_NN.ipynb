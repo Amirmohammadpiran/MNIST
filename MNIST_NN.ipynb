{
 "cells": [
  {
   "cell_type": "markdown",
   "id": "c35df245",
   "metadata": {},
   "source": [
    "Hi! In this code I am implementing MNIST(handwritten digit recognition), using a basic neural network by Keras, TensorFlow."
   ]
  },
  {
   "cell_type": "markdown",
   "id": "b2f1fca5",
   "metadata": {},
   "source": [
    "1-Importing necessary libraries:"
   ]
  },
  {
   "cell_type": "code",
   "execution_count": 251,
   "id": "73ee5945",
   "metadata": {},
   "outputs": [],
   "source": [
    "import numpy as np\n",
    "import tensorflow as tf\n",
    "from tensorflow import keras\n",
    "from keras.layers import Activation, Dense, Dropout\n",
    "import matplotlib.pyplot as plt"
   ]
  },
  {
   "cell_type": "markdown",
   "id": "961a3162",
   "metadata": {},
   "source": [
    "2-Loading the MNIST dataset, provided by Keras:"
   ]
  },
  {
   "cell_type": "code",
   "execution_count": 252,
   "id": "c6e44cc8",
   "metadata": {},
   "outputs": [
    {
     "name": "stdout",
     "output_type": "stream",
     "text": [
      "x_train shape:  (60000, 28, 28)   y_train shape:  (60000,)\n",
      "x_test shape:  (10000, 28, 28)   y_test shape:  (10000,)\n"
     ]
    }
   ],
   "source": [
    "(x_train, y_train),(x_test, y_test) = keras.datasets.mnist.load_data()\n",
    "print('x_train shape: ',x_train.shape,'  y_train shape: ',y_train.shape)\n",
    "print('x_test shape: ',x_test.shape,'  y_test shape: ',y_test.shape)"
   ]
  },
  {
   "cell_type": "markdown",
   "id": "28ef5edc",
   "metadata": {},
   "source": [
    "3-Visualizing the dataset:"
   ]
  },
  {
   "cell_type": "code",
   "execution_count": 253,
   "id": "0378e714",
   "metadata": {},
   "outputs": [
    {
     "data": {
      "image/png": "[encoded data removed]",
      "text/plain": [
       "<Figure size 432x288 with 3 Axes>"
      ]
     },
     "metadata": {
      "needs_background": "light"
     },
     "output_type": "display_data"
    }
   ],
   "source": [
    "for i in range(3):\n",
    "    plt.subplot(1,3,i+1)\n",
    "    plt.imshow(x_train[i],cmap='gray')\n",
    "    plt.title(\"Label : {}\".format(y_train[i]),fontsize=16)\n",
    "plt.show()"
   ]
  },
  {
   "cell_type": "markdown",
   "id": "ca39c22a",
   "metadata": {},
   "source": [
    "5-Converting y_train and y_test from label to one-hot vector:"
   ]
  },
  {
   "cell_type": "code",
   "execution_count": 254,
   "id": "3521378f",
   "metadata": {},
   "outputs": [
    {
     "name": "stdout",
     "output_type": "stream",
     "text": [
      "Random element of y_train and y_test in raw format:  9 2\n",
      "Random element of y_train and y_test after change:  [0. 0. 0. 0. 0. 0. 0. 0. 0. 1.] [0. 0. 1. 0. 0. 0. 0. 0. 0. 0.]\n"
     ]
    }
   ],
   "source": [
    "index = np.random.choice(len(y_test))\n",
    "print('Random element of y_train and y_test in raw format: ',y_train[index],y_test[index])\n",
    "y_train = keras.utils.to_categorical(y_train,10)\n",
    "y_test = keras.utils.to_categorical(y_test,10)\n",
    "print('Random element of y_train and y_test after change: ',y_train[index],y_test[index])"
   ]
  },
  {
   "cell_type": "markdown",
   "id": "802a0cb3",
   "metadata": {},
   "source": [
    "6-Normalizing x_train and x_test from 0-255 input values to 0-1:"
   ]
  },
  {
   "cell_type": "code",
   "execution_count": 255,
   "id": "07a451bc",
   "metadata": {},
   "outputs": [
    {
     "name": "stdout",
     "output_type": "stream",
     "text": [
      "random row vector of x_train and x_test in raw format:\n",
      "[  0   0   0   0   0   0   0   0   0  73 108  77   0  10 180 252 235  46\n",
      "   0   0   0   0   0   0   0   0   0   0] \n",
      "and\n",
      " [  0   0   0   0   0   0   0   0   0   0   0   0   0   0   0   0   0   0\n",
      "   0  38 223 254   5   0   0   0   0   0]\n",
      "\n",
      "\n",
      "random row vector of x_train and x_test after normalization:\n",
      "[0.         0.         0.         0.         0.         0.\n",
      " 0.         0.         0.         0.28627451 0.42352941 0.30196078\n",
      " 0.         0.03921569 0.70588235 0.98823529 0.92156863 0.18039216\n",
      " 0.         0.         0.         0.         0.         0.\n",
      " 0.         0.         0.         0.        ] \n",
      "and\n",
      " [0.         0.         0.         0.         0.         0.\n",
      " 0.         0.         0.         0.         0.         0.\n",
      " 0.         0.         0.         0.         0.         0.\n",
      " 0.         0.14901961 0.8745098  0.99607843 0.01960784 0.\n",
      " 0.         0.         0.         0.        ]\n"
     ]
    }
   ],
   "source": [
    "print('random row vector of x_train and x_test in raw format:')\n",
    "first_index, second_index = np.random.choice(len(x_test)), np.random.randint(10,20)\n",
    "print(x_test[first_index,second_index],'\\nand\\n',x_train[first_index,second_index])\n",
    "print('\\n\\nrandom row vector of x_train and x_test after normalization:')\n",
    "x_test, x_train = x_test/255, x_train/255\n",
    "print(x_test[first_index,second_index],'\\nand\\n',x_train[first_index,second_index])"
   ]
  },
  {
   "cell_type": "markdown",
   "id": "a2d3f14f",
   "metadata": {},
   "source": [
    "7-Reshaping x_train and x_test from 28x28 to 784x1 :"
   ]
  },
  {
   "cell_type": "code",
   "execution_count": 256,
   "id": "f1240583",
   "metadata": {},
   "outputs": [
    {
     "name": "stdout",
     "output_type": "stream",
     "text": [
      "Before reshaping : (60000, 28, 28) (10000, 28, 28)\n",
      "After reshaping : (60000, 784) (10000, 784)\n"
     ]
    }
   ],
   "source": [
    "print('Before reshaping :',x_train.shape,x_test.shape)\n",
    "x_train = x_train.reshape(x_train.shape[0],-1)\n",
    "x_test = x_test.reshape(x_test.shape[0],-1)\n",
    "print('After reshaping :',x_train.shape,x_test.shape)"
   ]
  },
  {
   "cell_type": "markdown",
   "id": "eef3d21f",
   "metadata": {},
   "source": [
    "8-Building neural network with 3 layers:"
   ]
  },
  {
   "cell_type": "code",
   "execution_count": 257,
   "id": "de37dd2e",
   "metadata": {},
   "outputs": [],
   "source": [
    "model = keras.Sequential()\n",
    "model.add(Dense(units=128, input_shape=(784,),activation='relu'))\n",
    "model.add(Dense(units=128,activation='relu'))\n",
    "model.add(Dropout(0.25))\n",
    "model.add(Dense(units=10,activation='softmax'))"
   ]
  },
  {
   "cell_type": "markdown",
   "id": "6e16bb71",
   "metadata": {},
   "source": [
    "9-Compiling model with passing loss function type, optimizer type and measured accuracy:"
   ]
  },
  {
   "cell_type": "code",
   "execution_count": 258,
   "id": "3d52b131",
   "metadata": {},
   "outputs": [
    {
     "name": "stdout",
     "output_type": "stream",
     "text": [
      "Model: \"sequential_16\"\n",
      "_________________________________________________________________\n",
      " Layer (type)                Output Shape              Param #   \n",
      "=================================================================\n",
      " dense_48 (Dense)            (None, 128)               100480    \n",
      "                                                                 \n",
      " dense_49 (Dense)            (None, 128)               16512     \n",
      "                                                                 \n",
      " dropout_16 (Dropout)        (None, 128)               0         \n",
      "                                                                 \n",
      " dense_50 (Dense)            (None, 10)                1290      \n",
      "                                                                 \n",
      "=================================================================\n",
      "Total params: 118,282\n",
      "Trainable params: 118,282\n",
      "Non-trainable params: 0\n",
      "_________________________________________________________________\n"
     ]
    }
   ],
   "source": [
    "model.compile(loss='categorical_crossentropy',optimizer='adam',metrics=['accuracy'])\n",
    "model.summary()"
   ]
  },
  {
   "cell_type": "markdown",
   "id": "028a279b",
   "metadata": {},
   "source": [
    "10-Training the model:"
   ]
  },
  {
   "cell_type": "code",
   "execution_count": 259,
   "id": "35db2860",
   "metadata": {},
   "outputs": [
    {
     "name": "stdout",
     "output_type": "stream",
     "text": [
      "Epoch 1/15\n",
      "79/79 [==============================] - 2s 15ms/step - loss: 0.7336 - accuracy: 0.7877 - val_loss: 0.2821 - val_accuracy: 0.9188\n",
      "Epoch 2/15\n",
      "79/79 [==============================] - 1s 12ms/step - loss: 0.2774 - accuracy: 0.9205 - val_loss: 0.2146 - val_accuracy: 0.9359\n",
      "Epoch 3/15\n",
      "79/79 [==============================] - 1s 14ms/step - loss: 0.2060 - accuracy: 0.9406 - val_loss: 0.1767 - val_accuracy: 0.9476\n",
      "Epoch 4/15\n",
      "79/79 [==============================] - 1s 12ms/step - loss: 0.1639 - accuracy: 0.9526 - val_loss: 0.1527 - val_accuracy: 0.9543\n",
      "Epoch 5/15\n",
      "79/79 [==============================] - 1s 13ms/step - loss: 0.1359 - accuracy: 0.9601 - val_loss: 0.1327 - val_accuracy: 0.9600\n",
      "Epoch 6/15\n",
      "79/79 [==============================] - 1s 12ms/step - loss: 0.1138 - accuracy: 0.9663 - val_loss: 0.1280 - val_accuracy: 0.9605\n",
      "Epoch 7/15\n",
      "79/79 [==============================] - 1s 12ms/step - loss: 0.0987 - accuracy: 0.9715 - val_loss: 0.1130 - val_accuracy: 0.9666\n",
      "Epoch 8/15\n",
      "79/79 [==============================] - 1s 12ms/step - loss: 0.0853 - accuracy: 0.9742 - val_loss: 0.1097 - val_accuracy: 0.9671\n",
      "Epoch 9/15\n",
      "79/79 [==============================] - 1s 12ms/step - loss: 0.0750 - accuracy: 0.9772 - val_loss: 0.1060 - val_accuracy: 0.9672\n",
      "Epoch 10/15\n",
      "79/79 [==============================] - 1s 13ms/step - loss: 0.0653 - accuracy: 0.9807 - val_loss: 0.1035 - val_accuracy: 0.9694\n",
      "Epoch 11/15\n",
      "79/79 [==============================] - 1s 12ms/step - loss: 0.0605 - accuracy: 0.9818 - val_loss: 0.0997 - val_accuracy: 0.9694\n",
      "Epoch 12/15\n",
      "79/79 [==============================] - 1s 13ms/step - loss: 0.0524 - accuracy: 0.9846 - val_loss: 0.0960 - val_accuracy: 0.9710\n",
      "Epoch 13/15\n",
      "79/79 [==============================] - 1s 12ms/step - loss: 0.0459 - accuracy: 0.9861 - val_loss: 0.0994 - val_accuracy: 0.9713\n",
      "Epoch 14/15\n",
      "79/79 [==============================] - 1s 13ms/step - loss: 0.0411 - accuracy: 0.9875 - val_loss: 0.0955 - val_accuracy: 0.9719\n",
      "Epoch 15/15\n",
      "79/79 [==============================] - 1s 12ms/step - loss: 0.0378 - accuracy: 0.9889 - val_loss: 0.0999 - val_accuracy: 0.9712\n"
     ]
    }
   ],
   "source": [
    "history = model.fit(x_train,y_train,validation_split=0.33,epochs=15,batch_size=512,verbose=1)"
   ]
  },
  {
   "cell_type": "markdown",
   "id": "7007d6ce",
   "metadata": {},
   "source": [
    "11-Visualizing softmax approach:"
   ]
  },
  {
   "cell_type": "code",
   "execution_count": 260,
   "id": "466a6fca",
   "metadata": {},
   "outputs": [
    {
     "name": "stdout",
     "output_type": "stream",
     "text": [
      "313/313 [==============================] - 1s 2ms/step\n",
      "[1.7355623e-06 6.7640741e-07 8.5542699e-05 5.2730209e-04 2.1013827e-08\n",
      " 2.2035358e-07 4.8815387e-08 9.9936712e-01 1.4579833e-06 1.5759801e-05]\n",
      "The highest prabablity is : 0.9993671\n"
     ]
    }
   ],
   "source": [
    "y_predicted = model.predict(x_test)\n",
    "print(y_predicted[0])\n",
    "print('The highest prabablity is :',np.max(y_predicted[0]))"
   ]
  },
  {
   "cell_type": "markdown",
   "id": "e5f8ac8e",
   "metadata": {},
   "source": [
    "12-Taking the max number(highest probablity) from every predicted y vector and replacing the whole vector with index of max:"
   ]
  },
  {
   "cell_type": "code",
   "execution_count": 261,
   "id": "dc39cd89",
   "metadata": {},
   "outputs": [
    {
     "name": "stdout",
     "output_type": "stream",
     "text": [
      "7\n"
     ]
    }
   ],
   "source": [
    "final_y_predicted = np.argmax(y_predicted,axis=1)\n",
    "print(final_y_predicted[0])"
   ]
  },
  {
   "cell_type": "markdown",
   "id": "97aff1d0",
   "metadata": {},
   "source": [
    "13-Checking a random test example:"
   ]
  },
  {
   "cell_type": "code",
   "execution_count": 262,
   "id": "66c07d39",
   "metadata": {},
   "outputs": [
    {
     "data": {
      "image/png": "[encoded data removed]",
      "text/plain": [
       "<Figure size 432x288 with 1 Axes>"
      ]
     },
     "metadata": {
      "needs_background": "light"
     },
     "output_type": "display_data"
    },
    {
     "name": "stdout",
     "output_type": "stream",
     "text": [
      "Certainty: % 99.93515014648438\n"
     ]
    }
   ],
   "source": [
    "index = np.random.choice(len(x_test))\n",
    "plt.imshow(x_test[index].reshape(28,28),cmap='gray')\n",
    "plt.title('True label: {},Predicted: {}'.format(y_test[index].argmax(),final_y_predicted[index]),color='white',fontsize=16)\n",
    "plt.show()\n",
    "print('Certainty: %',np.max(y_predicted[index])*100)"
   ]
  },
  {
   "cell_type": "markdown",
   "id": "a6d6a627",
   "metadata": {},
   "source": [
    "14-Evaluating the model:"
   ]
  },
  {
   "cell_type": "code",
   "execution_count": 263,
   "id": "0b7a8e16",
   "metadata": {},
   "outputs": [
    {
     "data": {
      "image/png": "[encoded data removed]",
      "text/plain": [
       "<Figure size 432x288 with 1 Axes>"
      ]
     },
     "metadata": {
      "needs_background": "light"
     },
     "output_type": "display_data"
    },
    {
     "data": {
      "image/png": "[encoded data removed]",
      "text/plain": [
       "<Figure size 432x288 with 1 Axes>"
      ]
     },
     "metadata": {
      "needs_background": "light"
     },
     "output_type": "display_data"
    },
    {
     "name": "stdout",
     "output_type": "stream",
     "text": [
      "313/313 [==============================] - 1s 2ms/step - loss: 0.0852 - accuracy: 0.9745\n",
      "Loss for test set:  0.08520986884832382\n",
      "Accuracy for test set:  0.9745000004768372\n"
     ]
    }
   ],
   "source": [
    "plt.plot(history.history['accuracy'])\n",
    "plt.plot(history.history['val_accuracy'])\n",
    "plt.title('Accuracy graph')\n",
    "plt.xlabel('epoch')\n",
    "plt.ylabel('accuracy')\n",
    "plt.legend(['train','test'])\n",
    "plt.show()\n",
    "plt.plot(history.history['loss'])\n",
    "plt.plot(history.history['val_loss'])\n",
    "plt.title('Loss graph')\n",
    "plt.xlabel('epoch')\n",
    "plt.ylabel('loss')\n",
    "plt.legend(['train','test'])\n",
    "plt.show()\n",
    "test_loss, test_acc = model.evaluate(x_test, y_test)\n",
    "print(\"Loss for test set: \",test_loss)\n",
    "print(\"Accuracy for test set: \",test_acc)"
   ]
  }
 ],
 "metadata": {
  "kernelspec": {
   "display_name": "Python 3 (ipykernel)",
   "language": "python",
   "name": "python3"
  },
  "language_info": {
   "codemirror_mode": {
    "name": "ipython",
    "version": 3
   },
   "file_extension": ".py",
   "mimetype": "text/x-python",
   "name": "python",
   "nbconvert_exporter": "python",
   "pygments_lexer": "ipython3",
   "version": "3.10.6"
  }
 },
 "nbformat": 4,
 "nbformat_minor": 5
}
