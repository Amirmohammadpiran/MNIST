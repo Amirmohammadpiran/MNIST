{
 "cells": [
  {
   "cell_type": "markdown",
   "id": "c35df245",
   "metadata": {},
   "source": [
    "Hi! In this code I am implementing MNIST(handwritten digit recognition), using a convolutional neural network by Keras, TensorFlow."
   ]
  },
  {
   "cell_type": "markdown",
   "id": "b2f1fca5",
   "metadata": {},
   "source": [
    "1-Importing necessary libraries:"
   ]
  },
  {
   "cell_type": "code",
   "execution_count": 2,
   "id": "73ee5945",
   "metadata": {},
   "outputs": [],
   "source": [
    "import numpy as np\n",
    "import tensorflow as tf\n",
    "from tensorflow import keras\n",
    "from keras.layers import Flatten, Dense, Dropout, Conv2D, MaxPool2D\n",
    "import matplotlib.pyplot as plt"
   ]
  },
  {
   "cell_type": "markdown",
   "id": "961a3162",
   "metadata": {},
   "source": [
    "2-Loading the MNIST dataset, provided by Keras:"
   ]
  },
  {
   "cell_type": "code",
   "execution_count": 3,
   "id": "c6e44cc8",
   "metadata": {},
   "outputs": [
    {
     "name": "stdout",
     "output_type": "stream",
     "text": [
      "x_train shape:  (60000, 28, 28)   y_train shape:  (60000,)\n",
      "x_test shape:  (10000, 28, 28)   y_test shape:  (10000,)\n"
     ]
    }
   ],
   "source": [
    "(x_train, y_train),(x_test, y_test) = keras.datasets.mnist.load_data()\n",
    "print('x_train shape: ',x_train.shape,'  y_train shape: ',y_train.shape)\n",
    "print('x_test shape: ',x_test.shape,'  y_test shape: ',y_test.shape)"
   ]
  },
  {
   "cell_type": "markdown",
   "id": "28ef5edc",
   "metadata": {},
   "source": [
    "3-Visualizing the dataset:"
   ]
  },
  {
   "cell_type": "code",
   "execution_count": 4,
   "id": "0378e714",
   "metadata": {},
   "outputs": [
    {
     "data": {
      "image/png": "[encoded data removed]",
      "text/plain": [
       "<Figure size 432x288 with 3 Axes>"
      ]
     },
     "metadata": {
      "needs_background": "light"
     },
     "output_type": "display_data"
    }
   ],
   "source": [
    "for i in range(3):\n",
    "    plt.subplot(1,3,i+1)\n",
    "    plt.imshow(x_train[i],cmap='gray')\n",
    "    plt.title(\"Label : {}\".format(y_train[i]),fontsize=16)\n",
    "plt.show()"
   ]
  },
  {
   "cell_type": "markdown",
   "id": "ca39c22a",
   "metadata": {},
   "source": [
    "5-Converting y_train and y_test from label to one-hot vector:"
   ]
  },
  {
   "cell_type": "code",
   "execution_count": 5,
   "id": "3521378f",
   "metadata": {},
   "outputs": [
    {
     "name": "stdout",
     "output_type": "stream",
     "text": [
      "Random element of y_train and y_test in raw format:  2 7\n",
      "Random element of y_train and y_test after change:  [0. 0. 1. 0. 0. 0. 0. 0. 0. 0.] [0. 0. 0. 0. 0. 0. 0. 1. 0. 0.]\n"
     ]
    }
   ],
   "source": [
    "index = np.random.choice(len(y_test))\n",
    "print('Random element of y_train and y_test in raw format: ',y_train[index],y_test[index])\n",
    "y_train = keras.utils.to_categorical(y_train,10)\n",
    "y_test = keras.utils.to_categorical(y_test,10)\n",
    "print('Random element of y_train and y_test after change: ',y_train[index],y_test[index])"
   ]
  },
  {
   "cell_type": "markdown",
   "id": "802a0cb3",
   "metadata": {},
   "source": [
    "6-Normalizing x_train and x_test from 0-255 input values to 0-1:"
   ]
  },
  {
   "cell_type": "code",
   "execution_count": 6,
   "id": "07a451bc",
   "metadata": {},
   "outputs": [
    {
     "name": "stdout",
     "output_type": "stream",
     "text": [
      "random row vector of x_train and x_test in raw format:\n",
      "[  0   0   0   0   0   0   0   0   0   0   0   0  26 172 228   0   0   0\n",
      "   0   0   0   0   0   0   0   0   0   0] \n",
      "and\n",
      " [  0   0   0   0   0   0   0   0   0   0   0   0   0  64  64 191 255 255\n",
      " 255 128   0   0   0   0   0   0   0   0]\n",
      "\n",
      "\n",
      "random row vector of x_train and x_test after normalization:\n",
      "[0.         0.         0.         0.         0.         0.\n",
      " 0.         0.         0.         0.         0.         0.\n",
      " 0.10196078 0.6745098  0.89411765 0.         0.         0.\n",
      " 0.         0.         0.         0.         0.         0.\n",
      " 0.         0.         0.         0.        ] \n",
      "and\n",
      " [0.         0.         0.         0.         0.         0.\n",
      " 0.         0.         0.         0.         0.         0.\n",
      " 0.         0.25098039 0.25098039 0.74901961 1.         1.\n",
      " 1.         0.50196078 0.         0.         0.         0.\n",
      " 0.         0.         0.         0.        ]\n"
     ]
    }
   ],
   "source": [
    "print('random row vector of x_train and x_test in raw format:')\n",
    "first_index, second_index = np.random.choice(len(x_test)), np.random.randint(10,20)\n",
    "print(x_test[first_index,second_index],'\\nand\\n',x_train[first_index,second_index])\n",
    "print('\\n\\nrandom row vector of x_train and x_test after normalization:')\n",
    "x_test, x_train = x_test/255, x_train/255\n",
    "print(x_test[first_index,second_index],'\\nand\\n',x_train[first_index,second_index])"
   ]
  },
  {
   "cell_type": "markdown",
   "id": "eef3d21f",
   "metadata": {},
   "source": [
    "7-Building convolutional neural network:"
   ]
  },
  {
   "cell_type": "code",
   "execution_count": 8,
   "id": "de37dd2e",
   "metadata": {},
   "outputs": [],
   "source": [
    "model = keras.Sequential()\n",
    "model.add(Conv2D(32,kernel_size=(3,3), input_shape=(28,28,1),activation='relu'))\n",
    "model.add(Conv2D(64,kernel_size=(5,5),activation='relu'))\n",
    "model.add(MaxPool2D(pool_size=(2,2)))\n",
    "model.add(Dropout(0.5))\n",
    "model.add(Flatten())\n",
    "model.add(Dense(units=256,activation='relu'))\n",
    "model.add(Dense(units=10,activation='softmax'))"
   ]
  },
  {
   "cell_type": "markdown",
   "id": "6e16bb71",
   "metadata": {},
   "source": [
    "8-Compiling model with passing loss function type, optimizer type and measured accuracy:"
   ]
  },
  {
   "cell_type": "code",
   "execution_count": 9,
   "id": "3d52b131",
   "metadata": {},
   "outputs": [
    {
     "name": "stdout",
     "output_type": "stream",
     "text": [
      "Model: \"sequential_1\"\n",
      "_________________________________________________________________\n",
      " Layer (type)                Output Shape              Param #   \n",
      "=================================================================\n",
      " conv2d_2 (Conv2D)           (None, 26, 26, 32)        320       \n",
      "                                                                 \n",
      " conv2d_3 (Conv2D)           (None, 22, 22, 64)        51264     \n",
      "                                                                 \n",
      " max_pooling2d_1 (MaxPooling  (None, 11, 11, 64)       0         \n",
      " 2D)                                                             \n",
      "                                                                 \n",
      " dropout_1 (Dropout)         (None, 11, 11, 64)        0         \n",
      "                                                                 \n",
      " flatten_1 (Flatten)         (None, 7744)              0         \n",
      "                                                                 \n",
      " dense_2 (Dense)             (None, 256)               1982720   \n",
      "                                                                 \n",
      " dense_3 (Dense)             (None, 10)                2570      \n",
      "                                                                 \n",
      "=================================================================\n",
      "Total params: 2,036,874\n",
      "Trainable params: 2,036,874\n",
      "Non-trainable params: 0\n",
      "_________________________________________________________________\n"
     ]
    }
   ],
   "source": [
    "model.compile(loss='categorical_crossentropy',optimizer='adam',metrics=['accuracy'])\n",
    "model.summary()"
   ]
  },
  {
   "cell_type": "markdown",
   "id": "028a279b",
   "metadata": {},
   "source": [
    "9-Training the model:"
   ]
  },
  {
   "cell_type": "code",
   "execution_count": 10,
   "id": "35db2860",
   "metadata": {},
   "outputs": [
    {
     "name": "stderr",
     "output_type": "stream",
     "text": [
      "2022-12-01 12:41:26.565976: W tensorflow/tsl/framework/cpu_allocator_impl.cc:82] Allocation of 150528000 exceeds 10% of free system memory.\n"
     ]
    },
    {
     "name": "stdout",
     "output_type": "stream",
     "text": [
      "Epoch 1/8\n"
     ]
    },
    {
     "name": "stderr",
     "output_type": "stream",
     "text": [
      "2022-12-01 12:41:29.064767: W tensorflow/tsl/framework/cpu_allocator_impl.cc:82] Allocation of 44302336 exceeds 10% of free system memory.\n",
      "2022-12-01 12:41:29.320929: W tensorflow/tsl/framework/cpu_allocator_impl.cc:82] Allocation of 63438848 exceeds 10% of free system memory.\n",
      "2022-12-01 12:41:31.587755: W tensorflow/tsl/framework/cpu_allocator_impl.cc:82] Allocation of 63438848 exceeds 10% of free system memory.\n",
      "2022-12-01 12:41:31.942540: W tensorflow/tsl/framework/cpu_allocator_impl.cc:82] Allocation of 44302336 exceeds 10% of free system memory.\n"
     ]
    },
    {
     "name": "stdout",
     "output_type": "stream",
     "text": [
      "94/94 [==============================] - 705s 7s/step - loss: 0.2964 - accuracy: 0.9097 - val_loss: 0.0741 - val_accuracy: 0.9787\n",
      "Epoch 2/8\n",
      "94/94 [==============================] - 537s 6s/step - loss: 0.0690 - accuracy: 0.9791 - val_loss: 0.0502 - val_accuracy: 0.9852\n",
      "Epoch 3/8\n",
      "94/94 [==============================] - 513s 5s/step - loss: 0.0499 - accuracy: 0.9846 - val_loss: 0.0414 - val_accuracy: 0.9874\n",
      "Epoch 4/8\n",
      "94/94 [==============================] - 576s 6s/step - loss: 0.0386 - accuracy: 0.9873 - val_loss: 0.0446 - val_accuracy: 0.9877\n",
      "Epoch 5/8\n",
      "94/94 [==============================] - 478s 5s/step - loss: 0.0317 - accuracy: 0.9899 - val_loss: 0.0402 - val_accuracy: 0.9879\n",
      "Epoch 6/8\n",
      "94/94 [==============================] - 376s 4s/step - loss: 0.0249 - accuracy: 0.9917 - val_loss: 0.0372 - val_accuracy: 0.9893\n",
      "Epoch 7/8\n",
      "94/94 [==============================] - 334s 4s/step - loss: 0.0213 - accuracy: 0.9928 - val_loss: 0.0347 - val_accuracy: 0.9907\n",
      "Epoch 8/8\n",
      "94/94 [==============================] - 338s 4s/step - loss: 0.0179 - accuracy: 0.9937 - val_loss: 0.0354 - val_accuracy: 0.9903\n"
     ]
    }
   ],
   "source": [
    "history = model.fit(x_train,y_train,validation_split=0.2,epochs=8,batch_size=512)"
   ]
  },
  {
   "cell_type": "markdown",
   "id": "7007d6ce",
   "metadata": {},
   "source": [
    "10-Visualizing softmax approach:"
   ]
  },
  {
   "cell_type": "code",
   "execution_count": 15,
   "id": "466a6fca",
   "metadata": {},
   "outputs": [
    {
     "name": "stdout",
     "output_type": "stream",
     "text": [
      "313/313 [==============================] - 11s 34ms/step\n",
      "[2.6160820e-13 2.1258419e-09 1.4024110e-06 4.9332161e-06 1.1597642e-07\n",
      " 8.9366194e-09 1.0686920e-16 9.9997634e-01 4.1447304e-08 1.7098802e-05]\n",
      "The highest prabablity is : 0.99997634\n"
     ]
    }
   ],
   "source": [
    "y_predicted = model.predict(x_test)\n",
    "i = np.random.choice(y_test.shape[0])\n",
    "print(y_predicted[i])\n",
    "print('The highest prabablity is :',np.max(y_predicted[i]))"
   ]
  },
  {
   "cell_type": "markdown",
   "id": "e5f8ac8e",
   "metadata": {},
   "source": [
    "11-Taking the max number(highest probablity) from every predicted y vector and replacing the whole vector with index of max:"
   ]
  },
  {
   "cell_type": "code",
   "execution_count": 17,
   "id": "dc39cd89",
   "metadata": {},
   "outputs": [
    {
     "name": "stdout",
     "output_type": "stream",
     "text": [
      "7\n"
     ]
    }
   ],
   "source": [
    "final_y_predicted = np.argmax(y_predicted,axis=1)\n",
    "print(final_y_predicted[i])"
   ]
  },
  {
   "cell_type": "markdown",
   "id": "97aff1d0",
   "metadata": {},
   "source": [
    "12-Checking a random test example:"
   ]
  },
  {
   "cell_type": "code",
   "execution_count": 22,
   "id": "66c07d39",
   "metadata": {},
   "outputs": [
    {
     "data": {
      "image/png": "[encoded data removed]",
      "text/plain": [
       "<Figure size 432x288 with 1 Axes>"
      ]
     },
     "metadata": {
      "needs_background": "light"
     },
     "output_type": "display_data"
    },
    {
     "name": "stdout",
     "output_type": "stream",
     "text": [
      "Certainty: % 99.83553886413574\n"
     ]
    }
   ],
   "source": [
    "i = np.random.choice(len(x_test))\n",
    "plt.imshow(x_test[i].reshape(28,28),cmap='gray')\n",
    "plt.title('True label: {},Predicted: {}'.format(y_test[i].argmax(),final_y_predicted[i]),fontsize=16)\n",
    "plt.show()\n",
    "print('Certainty: %',np.max(y_predicted[i])*100)"
   ]
  },
  {
   "cell_type": "markdown",
   "id": "a6d6a627",
   "metadata": {},
   "source": [
    "13-Evaluating the model:"
   ]
  },
  {
   "cell_type": "code",
   "execution_count": 23,
   "id": "0b7a8e16",
   "metadata": {},
   "outputs": [
    {
     "data": {
      "image/png": "[encoded data removed]",
      "text/plain": [
       "<Figure size 432x288 with 1 Axes>"
      ]
     },
     "metadata": {
      "needs_background": "light"
     },
     "output_type": "display_data"
    },
    {
     "data": {
      "image/png": "[encoded data removed]",
      "text/plain": [
       "<Figure size 432x288 with 1 Axes>"
      ]
     },
     "metadata": {
      "needs_background": "light"
     },
     "output_type": "display_data"
    },
    {
     "name": "stdout",
     "output_type": "stream",
     "text": [
      "313/313 [==============================] - 11s 34ms/step - loss: 0.0265 - accuracy: 0.9909\n",
      "Loss for test set:  0.026520151644945145\n",
      "Accuracy for test set:  0.9908999800682068\n"
     ]
    }
   ],
   "source": [
    "plt.plot(history.history['accuracy'])\n",
    "plt.plot(history.history['val_accuracy'])\n",
    "plt.title('Accuracy graph')\n",
    "plt.xlabel('epoch')\n",
    "plt.ylabel('accuracy')\n",
    "plt.legend(['train','test'])\n",
    "plt.show()\n",
    "plt.plot(history.history['loss'])\n",
    "plt.plot(history.history['val_loss'])\n",
    "plt.title('Loss graph')\n",
    "plt.xlabel('epoch')\n",
    "plt.ylabel('loss')\n",
    "plt.legend(['train','test'])\n",
    "plt.show()\n",
    "test_loss, test_acc = model.evaluate(x_test, y_test)\n",
    "print(\"Loss for test set: \",test_loss)\n",
    "print(\"Accuracy for test set: \",test_acc)"
   ]
  }
 ],
 "metadata": {
  "kernelspec": {
   "display_name": "Python 3 (ipykernel)",
   "language": "python",
   "name": "python3"
  },
  "language_info": {
   "codemirror_mode": {
    "name": "ipython",
    "version": 3
   },
   "file_extension": ".py",
   "mimetype": "text/x-python",
   "name": "python",
   "nbconvert_exporter": "python",
   "pygments_lexer": "ipython3",
   "version": "3.10.6"
  }
 },
 "nbformat": 4,
 "nbformat_minor": 5
}
