{
 "cells": [
  {
   "cell_type": "markdown",
   "id": "5b0422db",
   "metadata": {},
   "source": [
    "**Hi! In this code I am implementing MNIST(handwritten digit recognition), using a Convolutional Neural Network in PyTorch:**\n",
    "\n",
    "\n"
   ]
  },
  {
   "cell_type": "markdown",
   "id": "cb117518",
   "metadata": {},
   "source": [
    "**1-** Importing necessary libraries:"
   ]
  },
  {
   "cell_type": "code",
   "execution_count": 64,
   "id": "9d9eaee9",
   "metadata": {},
   "outputs": [],
   "source": [
    "import torch\n",
    "import matplotlib.pyplot as plt\n",
    "import numpy as np\n",
    "import pandas as pd\n",
    "import time\n",
    "from torch import nn\n",
    "from tensorflow.keras.datasets import mnist\n",
    "import mplcyberpunk         # A library for modernizing matplotlib\n",
    "                            # install using this command:\n",
    "                            # pip install mplcyberpunk "
   ]
  },
  {
   "cell_type": "markdown",
   "id": "3ca7b6da",
   "metadata": {},
   "source": [
    "**2-** Loading the MNIST dataset, provided by **Keras**, **TensorFlow**:"
   ]
  },
  {
   "cell_type": "code",
   "execution_count": 65,
   "id": "e3175a6b",
   "metadata": {},
   "outputs": [
    {
     "name": "stdout",
     "output_type": "stream",
     "text": [
      "x_train shape:  (60000, 28, 28)   y_train shape:  (60000,)\n",
      "x_test shape:  (10000, 28, 28)   y_test shape:  (10000,)\n"
     ]
    }
   ],
   "source": [
    "(x_train, y_train), (x_test, y_test) = mnist.load_data()\n",
    "\n",
    "print('x_train shape: ',x_train.shape,'  y_train shape: ',y_train.shape)\n",
    "print('x_test shape: ',x_test.shape,'  y_test shape: ',y_test.shape)"
   ]
  },
  {
   "cell_type": "markdown",
   "id": "38461195",
   "metadata": {},
   "source": [
    "**3-** Visualizing the dataset:"
   ]
  },
  {
   "cell_type": "code",
   "execution_count": 66,
   "id": "3a2e7cee",
   "metadata": {},
   "outputs": [
    {
     "data": {
      "image/png": "[encoded data removed]",
      "text/plain": [
       "<Figure size 432x288 with 3 Axes>"
      ]
     },
     "metadata": {},
     "output_type": "display_data"
    }
   ],
   "source": [
    "plt.style.use('cyberpunk')\n",
    "for i in range(3):\n",
    "    plt.subplot(1,3,i+1)\n",
    "    plt.imshow(x_train[i],cmap='gray')\n",
    "    plt.title(\"Label : {}\".format(y_train[i]),fontsize=16)\n",
    "plt.show()"
   ]
  },
  {
   "cell_type": "markdown",
   "id": "4b32bb7e",
   "metadata": {},
   "source": [
    "**4-** Normalizing *x_train* and *x_test* from **0-255** values to **0-1**:"
   ]
  },
  {
   "cell_type": "code",
   "execution_count": 67,
   "id": "451118e9",
   "metadata": {},
   "outputs": [
    {
     "name": "stdout",
     "output_type": "stream",
     "text": [
      "random row vector of x_train and x_test in raw format:\n",
      "[  0   0   0   0   0   0   0   0   0  36  52  52 222 254 254  68   0   0\n",
      "   0   0   0   0   0   0   0   0   0   0] \n",
      "and\n",
      " [  0   0   0   0   0   0   0   0   0   0   0   0   0   0   0   0  71 211\n",
      " 253 217  12   0   0   0   0   0   0   0]\n",
      "\n",
      "\n",
      "random row vector of x_train and x_test after normalization:\n",
      "[0.         0.         0.         0.         0.         0.\n",
      " 0.         0.         0.         0.14117647 0.20392157 0.20392157\n",
      " 0.87058824 0.99607843 0.99607843 0.26666667 0.         0.\n",
      " 0.         0.         0.         0.         0.         0.\n",
      " 0.         0.         0.         0.        ] \n",
      "and\n",
      " [0.         0.         0.         0.         0.         0.\n",
      " 0.         0.         0.         0.         0.         0.\n",
      " 0.         0.         0.         0.         0.27843137 0.82745098\n",
      " 0.99215686 0.85098039 0.04705882 0.         0.         0.\n",
      " 0.         0.         0.         0.        ]\n"
     ]
    }
   ],
   "source": [
    "print('random row vector of x_train and x_test in raw format:')\n",
    "first_index, second_index = np.random.choice(len(x_test)), np.random.randint(10,20)\n",
    "print(x_test[first_index,second_index],'\\nand\\n',x_train[first_index,second_index])\n",
    "print('\\n\\nrandom row vector of x_train and x_test after normalization:')\n",
    "x_test, x_train = x_test/255, x_train/255\n",
    "print(x_test[first_index,second_index],'\\nand\\n',x_train[first_index,second_index])"
   ]
  },
  {
   "cell_type": "markdown",
   "id": "309199df",
   "metadata": {},
   "source": [
    "**5-** Investigating the process of **Convolution**:"
   ]
  },
  {
   "cell_type": "code",
   "execution_count": 68,
   "id": "0821b6aa",
   "metadata": {},
   "outputs": [
    {
     "data": {
      "image/png": "[encoded data removed]",
      "text/plain": [
       "<Figure size 432x288 with 4 Axes>"
      ]
     },
     "metadata": {},
     "output_type": "display_data"
    }
   ],
   "source": [
    "index = np.random.randint(0,10000)\n",
    "layer = nn.Conv2d(in_channels=1,out_channels=4,kernel_size=(3,3))\n",
    "\n",
    "temp = torch.Tensor(x_train[index]).unsqueeze(0)\n",
    "out = layer(temp)\n",
    "\n",
    "for i in range(4):\n",
    "    plt.subplot(1,4,i+1)\n",
    "    plt.imshow(out[i].detach().numpy(),cmap='gray')\n",
    "plt.show()"
   ]
  },
  {
   "cell_type": "markdown",
   "id": "5d23ea1a",
   "metadata": {},
   "source": [
    "**6-** Building the CNN with **5 layers**:"
   ]
  },
  {
   "cell_type": "code",
   "execution_count": 69,
   "id": "62791a31",
   "metadata": {},
   "outputs": [],
   "source": [
    "class MNIST_Classifier(nn.Module):\n",
    "    def __init__(self):\n",
    "        super().__init__()\n",
    "        self.ConvLayer = nn.Sequential(\n",
    "            nn.Conv2d(in_channels=1,          # shape of input(color channels) => B & W\n",
    "                     out_channels=16,         # Hidden units\n",
    "                     stride=2,\n",
    "                     kernel_size=(3,3)),\n",
    "            nn.ReLU(),\n",
    "            nn.MaxPool2d(kernel_size=2,\n",
    "                        stride=2),\n",
    "            nn.Conv2d(in_channels=16,\n",
    "                     out_channels=32,\n",
    "                     stride=1,\n",
    "                     kernel_size=(3,3)),\n",
    "        )\n",
    "        self.NeuralNet = nn.Sequential(\n",
    "            nn.Linear(512,64),\n",
    "            nn.ReLU(),\n",
    "            nn.Linear(64,64),\n",
    "            nn.ReLU(),\n",
    "            nn.Dropout(p=0.25),\n",
    "            nn.Linear(64,10),\n",
    "        )\n",
    "    \n",
    "    def forward(self, x: torch.Tensor) -> torch.Tensor:\n",
    "        x = self.ConvLayer(x)\n",
    "        x = x.view(x.size(0),-1)\n",
    "        return self.NeuralNet(x)"
   ]
  },
  {
   "cell_type": "markdown",
   "id": "79a0f490",
   "metadata": {},
   "source": [
    "**7-** Investigating the **Non-Trained** model on test data:"
   ]
  },
  {
   "cell_type": "code",
   "execution_count": 70,
   "id": "1aa5a239",
   "metadata": {},
   "outputs": [
    {
     "data": {
      "image/png": "[encoded data removed]",
      "text/plain": [
       "<Figure size 432x288 with 3 Axes>"
      ]
     },
     "metadata": {},
     "output_type": "display_data"
    }
   ],
   "source": [
    "model = MNIST_Classifier()\n",
    "y_pred = []\n",
    "\n",
    "for i in range(3):\n",
    "    temp = model(torch.Tensor(x_test).squeeze().unsqueeze(1))\n",
    "    plt.subplot(1,3,i+1)\n",
    "    plt.imshow(x_test[i].reshape(28,28),cmap='gray')\n",
    "    plt.title(\"Predicted : {}\".format(torch.argmax(temp[0])),fontsize=16)\n",
    "plt.show()"
   ]
  },
  {
   "cell_type": "markdown",
   "id": "13306024",
   "metadata": {},
   "source": [
    "**8-** Importing **Optimizer**  and  **Loss Function**:\n"
   ]
  },
  {
   "cell_type": "code",
   "execution_count": 71,
   "id": "b4c2e8e1",
   "metadata": {},
   "outputs": [],
   "source": [
    "from torch.nn import CrossEntropyLoss\n",
    "from torch.optim import Adam\n",
    "criterion = CrossEntropyLoss()\n",
    "optimizer = Adam(params=model.parameters(), lr=0.01)"
   ]
  },
  {
   "cell_type": "markdown",
   "id": "979d4ba3",
   "metadata": {},
   "source": [
    "**9-** Creating **Tensors with prefered datatype**, making labels **one-hot** and enabling **gradient tracking**:"
   ]
  },
  {
   "cell_type": "code",
   "execution_count": 72,
   "id": "e27c9fa8",
   "metadata": {},
   "outputs": [
    {
     "name": "stdout",
     "output_type": "stream",
     "text": [
      "Does x_train track gradients:  False\n",
      "\n",
      "Does x_train track gradients:  True\n"
     ]
    }
   ],
   "source": [
    "print('Does x_train track gradients: ',torch.Tensor(x_train).requires_grad)\n",
    "x_train = torch.from_numpy(x_train).type(torch.float).requires_grad_()\n",
    "x_test = torch.from_numpy(x_test).type(torch.float).requires_grad_()\n",
    "print('\\nDoes x_train track gradients: ',torch.Tensor(x_train).requires_grad)\n",
    "\n",
    "y_test = torch.nn.functional.one_hot(torch.Tensor(y_test).type(torch.LongTensor), num_classes=10)\n",
    "y_train = torch.nn.functional.one_hot(torch.Tensor(y_train).type(torch.LongTensor), num_classes=10)\n",
    "y_train = y_train.type(torch.float).requires_grad_()\n",
    "y_test = y_test.type(torch.float).requires_grad_()"
   ]
  },
  {
   "cell_type": "markdown",
   "id": "0f0999c6",
   "metadata": {},
   "source": [
    "**10-** Creating a **Cross Validation set** out of the training set (10% of it):"
   ]
  },
  {
   "cell_type": "code",
   "execution_count": 73,
   "id": "7d7954b6",
   "metadata": {},
   "outputs": [
    {
     "name": "stdout",
     "output_type": "stream",
     "text": [
      "shape of cross validation set: torch.Size([6000, 28, 28]) torch.Size([6000, 10])\n",
      "shape of new training set: torch.Size([54000, 28, 28]) torch.Size([54000, 10])\n"
     ]
    }
   ],
   "source": [
    "x_CV = x_train[54000:]\n",
    "y_CV = y_train[54000:]\n",
    "print(\"shape of cross validation set:\",x_CV.shape, y_CV.shape)\n",
    "x_train = x_train[:54000]\n",
    "y_train = y_train[:54000]\n",
    "print(\"shape of new training set:\",x_train.shape, y_train.shape)"
   ]
  },
  {
   "cell_type": "markdown",
   "id": "5792c932",
   "metadata": {},
   "source": [
    "**11-** Building a training loop and keeping the record of **loss** and **accuracy** for train and CV:"
   ]
  },
  {
   "cell_type": "code",
   "execution_count": 74,
   "id": "ccf3d8aa",
   "metadata": {},
   "outputs": [
    {
     "name": "stdout",
     "output_type": "stream",
     "text": [
      "epoch #0 | loss: 2.307 | train accuracy: % 9.6056 | CV accuracy: % 20.3000 | spent time: 5.34 sec\n",
      "epoch #10 | loss: 0.869 | train accuracy: % 71.7481 | CV accuracy: % 78.5167 | spent time: 52.96 sec\n",
      "epoch #20 | loss: 0.415 | train accuracy: % 87.0556 | CV accuracy: % 90.2167 | spent time: 53.47 sec\n",
      "epoch #30 | loss: 0.244 | train accuracy: % 92.5241 | CV accuracy: % 94.4000 | spent time: 53.87 sec\n",
      "epoch #40 | loss: 0.163 | train accuracy: % 95.0074 | CV accuracy: % 96.3333 | spent time: 54.09 sec\n",
      "epoch #50 | loss: 0.120 | train accuracy: % 96.3685 | CV accuracy: % 96.9833 | spent time: 53.81 sec\n",
      "epoch #60 | loss: 0.097 | train accuracy: % 97.1426 | CV accuracy: % 97.2833 | spent time: 53.66 sec\n",
      "epoch #70 | loss: 0.078 | train accuracy: % 97.6278 | CV accuracy: % 97.9667 | spent time: 53.51 sec\n",
      "epoch #80 | loss: 0.068 | train accuracy: % 97.9500 | CV accuracy: % 97.7667 | spent time: 54.99 sec\n",
      "epoch #90 | loss: 0.058 | train accuracy: % 98.2259 | CV accuracy: % 98.1000 | spent time: 53.71 sec\n",
      "epoch #100 | loss: 0.053 | train accuracy: % 98.4019 | CV accuracy: % 98.0167 | spent time: 54.07 sec\n",
      "epoch #110 | loss: 0.048 | train accuracy: % 98.5037 | CV accuracy: % 98.1833 | spent time: 54.20 sec\n",
      "epoch #120 | loss: 0.043 | train accuracy: % 98.7185 | CV accuracy: % 98.2167 | spent time: 53.22 sec\n",
      "epoch #130 | loss: 0.038 | train accuracy: % 98.8167 | CV accuracy: % 98.3167 | spent time: 53.71 sec\n"
     ]
    }
   ],
   "source": [
    "tic, toc = time.time(), time.time()\n",
    "epochs, train_accuracy_list, train_loss_list = [], [], []\n",
    "CV_loss_list, CV_accuracy_list = [], []\n",
    "\n",
    "for epoch in range(131):\n",
    "    \n",
    "    model.train()\n",
    "    y_pred = model(x_train.unsqueeze(1)).type(torch.float)\n",
    "    loss = criterion(y_pred,y_train)\n",
    "    optimizer.zero_grad()\n",
    "    loss.backward()\n",
    "    optimizer.step()\n",
    "    \n",
    "    if epoch % 10 == 0:\n",
    "        \n",
    "        CV_y_pred = model(x_CV.unsqueeze(1)).type(torch.float)  \n",
    "        CV_loss = criterion(CV_y_pred,y_CV)\n",
    "        CV_loss_list.append(CV_loss.detach().numpy())  #loss for CV\n",
    "        \n",
    "        CV_correct = torch.eq(CV_y_pred.argmax(dim=-1),y_CV.argmax(dim=-1)).sum().item()\n",
    "        CV_acc = (CV_correct / len(y_CV)) * 100\n",
    "        CV_accuracy_list.append(CV_acc)                #accuracy for CV\n",
    "\n",
    "        train_correct = torch.eq(y_pred.argmax(dim=-1),y_train.argmax(dim=-1)).sum().item()\n",
    "        train_acc = (train_correct / len(y_train)) * 100\n",
    "        train_accuracy_list.append(train_acc)          #accuracy for train\n",
    "        \n",
    "        train_loss_list.append(loss.detach().numpy())  #loss for train\n",
    "                  \n",
    "        epochs.append(epoch)\n",
    "        \n",
    "        toc = time.time()\n",
    "\n",
    "        print(f'epoch #{epoch} | loss: {loss:.3f} | train accuracy: % {train_acc:.4f}',\n",
    "              f'| CV accuracy: % {CV_acc:.4f} | spent time: {toc-tic:.2f} sec')\n",
    "        \n",
    "        tic = time.time()"
   ]
  },
  {
   "cell_type": "markdown",
   "id": "0f730c29",
   "metadata": {},
   "source": [
    "**12-** Taking out **the highest probablities** from predicted labels:"
   ]
  },
  {
   "cell_type": "code",
   "execution_count": 75,
   "id": "34ba690f",
   "metadata": {},
   "outputs": [
    {
     "name": "stdout",
     "output_type": "stream",
     "text": [
      "the first prediction of x_test in raw format: \n",
      " tensor([ -7.3712,  -0.6916,   2.6209,  -0.9379, -10.2339,  -7.6200, -18.4498,\n",
      "         16.4994,  -7.2743,   2.1495], grad_fn=<SelectBackward0>)\n",
      "the first prediction of x_test after argmax: \n",
      " tensor(7)\n"
     ]
    }
   ],
   "source": [
    "y_pred = model(x_test.unsqueeze(1)).type(torch.float)\n",
    "print('the first prediction of x_test in raw format: \\n', y_pred[0])\n",
    "y_pred = y_pred.argmax(dim=-1)\n",
    "print('the first prediction of x_test after argmax: \\n', y_pred[0])"
   ]
  },
  {
   "cell_type": "markdown",
   "id": "298a4ce6",
   "metadata": {},
   "source": [
    "**13-** Checking a random example from **x_test**:"
   ]
  },
  {
   "cell_type": "code",
   "execution_count": 76,
   "id": "10041603",
   "metadata": {},
   "outputs": [
    {
     "data": {
      "image/png": "[encoded data removed]",
      "text/plain": [
       "<Figure size 432x288 with 1 Axes>"
      ]
     },
     "metadata": {},
     "output_type": "display_data"
    }
   ],
   "source": [
    "index = np.random.choice(len(x_test))\n",
    "plt.imshow(x_test[index].detach().numpy().reshape(28,28),cmap='gray')\n",
    "plt.title(f'True label: {y_test[index].argmax()},Predicted: {y_pred[index]:.0f}',fontsize=16)\n",
    "plt.show()"
   ]
  },
  {
   "cell_type": "markdown",
   "id": "d6f818c1",
   "metadata": {},
   "source": [
    "**14-**  Checking  **the accuracy** for the test set:"
   ]
  },
  {
   "cell_type": "code",
   "execution_count": 77,
   "id": "915fbece",
   "metadata": {},
   "outputs": [
    {
     "name": "stdout",
     "output_type": "stream",
     "text": [
      "accuracy for the test set : % 98.31\n"
     ]
    }
   ],
   "source": [
    "y_pred = y_pred.type(torch.float)\n",
    "correct = torch.eq(y_pred, y_test.argmax(dim=-1).type(torch.float)).sum().item()\n",
    "acc = (correct / len(y_test)) * 100\n",
    "print(f'accuracy for the test set : % {acc}')"
   ]
  },
  {
   "cell_type": "markdown",
   "id": "1675a117",
   "metadata": {},
   "source": [
    "**15-** Plotting the curves:"
   ]
  },
  {
   "cell_type": "code",
   "execution_count": 78,
   "id": "83ba1a14",
   "metadata": {
    "scrolled": true
   },
   "outputs": [
    {
     "data": {
      "image/png": "[encoded data removed]",
      "text/plain": [
       "<Figure size 432x288 with 1 Axes>"
      ]
     },
     "metadata": {},
     "output_type": "display_data"
    },
    {
     "data": {
      "image/png": "[encoded data removed]",
      "text/plain": [
       "<Figure size 432x288 with 1 Axes>"
      ]
     },
     "metadata": {},
     "output_type": "display_data"
    }
   ],
   "source": [
    "plt.plot(epochs,train_loss_list)\n",
    "plt.plot(epochs,CV_loss_list)\n",
    "mplcyberpunk.make_lines_glow()\n",
    "mplcyberpunk.add_underglow()\n",
    "plt.xlabel('Epochs')\n",
    "plt.ylabel('Loss')\n",
    "plt.legend(['CV','Train'])\n",
    "plt.show()\n",
    "plt.plot(epochs,train_accuracy_list)\n",
    "plt.plot(epochs,CV_accuracy_list)\n",
    "mplcyberpunk.make_lines_glow()\n",
    "mplcyberpunk.add_underglow()\n",
    "plt.xlabel('Epochs')\n",
    "plt.ylabel('Accuracy')\n",
    "plt.legend(['CV','Train'])\n",
    "plt.show()"
   ]
  }
 ],
 "metadata": {
  "kernelspec": {
   "display_name": "Python 3 (ipykernel)",
   "language": "python",
   "name": "python3"
  },
  "language_info": {
   "codemirror_mode": {
    "name": "ipython",
    "version": 3
   },
   "file_extension": ".py",
   "mimetype": "text/x-python",
   "name": "python",
   "nbconvert_exporter": "python",
   "pygments_lexer": "ipython3",
   "version": "3.10.6"
  }
 },
 "nbformat": 4,
 "nbformat_minor": 5
}
